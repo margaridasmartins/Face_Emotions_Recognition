{
 "cells": [
  {
   "cell_type": "markdown",
   "metadata": {},
   "source": [
    "# Project 1 TAA"
   ]
  },
  {
   "cell_type": "code",
   "execution_count": 21,
   "metadata": {},
   "outputs": [],
   "source": [
    "#Import relevant libraries\n",
    "import numpy as np\n",
    "import pandas as pd\n",
    "import matplotlib.pyplot as plt\n",
    "#to load matlab mat files\n",
    "from scipy.io import loadmat"
   ]
  },
  {
   "cell_type": "code",
   "execution_count": 22,
   "metadata": {},
   "outputs": [
    {
     "name": "stdout",
     "output_type": "stream",
     "text": [
      "Loaded 3000 traing examples, each with 2304 features (pixels).\n"
     ]
    }
   ],
   "source": [
    "filename = \"training_data_fear_neutral_happy.mat\"\n",
    "mat=loadmat(filename)\n",
    "\n",
    "# mat is a dict with key \"X\" for x-values, and key \"y\" for y values\n",
    "X=mat[\"X\"]\n",
    "y=mat[\"y\"]\n",
    "\n",
    "#number of training examples\n",
    "m = len(X)\n",
    "print(f\"Loaded {X.shape[0]} traing examples, each with {X.shape[1]} features (pixels).\")"
   ]
  },
  {
   "cell_type": "markdown",
   "metadata": {},
   "source": [
    "### sigmoid function"
   ]
  },
  {
   "cell_type": "code",
   "execution_count": 23,
   "metadata": {},
   "outputs": [],
   "source": [
    "# Add sigmoid FUNCTION from the previous lab\n",
    "def sigmoid(z):\n",
    "    \"\"\"\n",
    "    return the sigmoid of z\n",
    "    \"\"\"\n",
    "    gz=1/(1+np.exp(-z))\n",
    "    \n",
    "    return gz"
   ]
  },
  {
   "cell_type": "code",
   "execution_count": 24,
   "metadata": {},
   "outputs": [],
   "source": [
    "#Computes the gradient of sigmoid function\n",
    "def sigmoidGradient(z):\n",
    "    \"\"\"\n",
    "    computes the gradient of the sigmoid function\n",
    "    \"\"\"\n",
    "    sigmoid = 1/(1 + np.exp(-z))\n",
    "    \n",
    "    return sigmoid *(1-sigmoid) "
   ]
  },
  {
   "cell_type": "markdown",
   "metadata": {},
   "source": [
    "### LeakyRelu function and gradient"
   ]
  },
  {
   "cell_type": "code",
   "execution_count": 25,
   "metadata": {},
   "outputs": [],
   "source": [
    "def leaky_relu(z):\n",
    "    \"\"\"\n",
    "    relu activation function\n",
    "    \"\"\"\n",
    "    return np.where(z <=0, 0.01*z, z)"
   ]
  },
  {
   "cell_type": "code",
   "execution_count": 26,
   "metadata": {},
   "outputs": [],
   "source": [
    "def leaky_relu_gradient(z):\n",
    "    \"\"\"\n",
    "    computes the gradient of the leaky relu function\n",
    "    \"\"\"\n",
    "    return np.where(z <=0, 0.01, 1)"
   ]
  },
  {
   "cell_type": "code",
   "execution_count": 27,
   "metadata": {},
   "outputs": [],
   "source": [
    "def softmax(z):\n",
    "    \"\"\"\n",
    "    compute softmax\n",
    "    \"\"\"\n",
    "    e_x = np.exp(z - np.max(z))\n",
    "    return e_x / e_x.sum(axis=0) "
   ]
  },
  {
   "cell_type": "markdown",
   "metadata": {},
   "source": [
    "\n",
    "### neural network cost function"
   ]
  },
  {
   "cell_type": "code",
   "execution_count": 154,
   "metadata": {},
   "outputs": [],
   "source": [
    "def nnCostFunction(nn_params, num_labels,X, y,Lambda):\n",
    "    \"\"\"\n",
    "    nn_params contains the parameters unrolled into a vector\n",
    "    \n",
    "    compute the cost and gradient of the neural network (regularized and non regularized)\n",
    "    \"\"\"\n",
    "    \n",
    "    \n",
    "    m = X.shape[0]\n",
    "    J=0\n",
    "    X = np.hstack((np.ones((m,1)),X))\n",
    "    y10 = np.zeros((m,num_labels))\n",
    "    \n",
    "    layers=[]\n",
    "    layers.append(X)\n",
    "   \n",
    "    for i in range(len(nn_params)-1):\n",
    "        a2 = sigmoid(layers[i] @ nn_params[i].T) # output layer\n",
    "        a2 = np.hstack((np.ones((layers[i].shape[0],1)),a2 ))\n",
    "        layers.append(a2)\n",
    "        \n",
    "    out = sigmoid(layers[-1] @ nn_params[-1].T)\n",
    "    layers.append(out)\n",
    "    \n",
    "    for i in range(1,num_labels+1):\n",
    "        y10[:,i-1][:,np.newaxis] = np.where(y==i,1,0)\n",
    "    for j in range(num_labels):\n",
    "        J = J + sum(-y10[:,j] * np.log(layers[-1][:,j]) - (1-y10[:,j])*np.log(1-layers[-1][:,j]))\n",
    "    \n",
    "    cost = 1/m* J\n",
    "    \n",
    "    reg_term = 0\n",
    "    for i in range(len(nn_params)):\n",
    "        reg_term += np.sum(nn_params[i][:,1:]**2)\n",
    "    reg_cost = cost + Lambda/(2*m) * reg_term\n",
    "    \n",
    "    # Implement the backpropagation algorithm to compute the gradients\n",
    "    \n",
    "    \n",
    "    grads = [np.zeros(Theta.shape) for Theta in nn_params ]\n",
    "    \n",
    "    \"\"\"\n",
    "    for i in range(m):\n",
    "        xi= X[i,:] # 1 X 401\n",
    "        a1i = a1[i,:] # 1 X 26\n",
    "        a2i =a2[i,:] # 1 X 10\n",
    "        d2 = a2i - y10[i,:]\n",
    "        d1 = Theta2.T @ d2.T * sigmoidGradient(np.hstack((1,xi @ Theta1.T)))\n",
    "        grad1= grad1 + d1[1:][:,np.newaxis] @ xi[:,np.newaxis].T\n",
    "        grad2 = grad2 + d2.T[:,np.newaxis] @ a1i[:,np.newaxis].T\n",
    "    \"\"\"\n",
    "    \n",
    "    grads = [1/m * grad for grad in grads]\n",
    "    \n",
    "    grads_reg = [grads[i] + (Lambda/m) * np.hstack((np.zeros((nn_params[i].shape[0],1)),nn_params[i][:,1:])) for i in range(len(nn_params)) ]\n",
    "    \n",
    "    return cost, nn_params, reg_cost, nn_params"
   ]
  },
  {
   "cell_type": "code",
   "execution_count": 155,
   "metadata": {},
   "outputs": [],
   "source": [
    "def gradientDescentnn(X,y,initial_nn_params,alpha,num_iters,Lambda, num_labels,regularized=False):\n",
    "    \"\"\"\n",
    "    Take in numpy array X, y and theta and update theta by taking num_iters gradient steps\n",
    "    with learning rate of alpha\n",
    "    \n",
    "    return theta and the list of the cost of theta during each iteration\n",
    "    \"\"\"\n",
    "\n",
    "    nn_params =[i for i in initial_nn_params]\n",
    "    m=len(y)\n",
    "    J_history =[]\n",
    "    nn_paramsFinal=[]\n",
    "    \n",
    "    for i in range(num_iters):\n",
    "        if regularized:\n",
    "            cost, grads = nnCostFunction(nn_params, num_labels,X, y,Lambda)[2:]\n",
    "        else:\n",
    "            cost, grads = nnCostFunction(nn_params, num_labels,X, y,Lambda)[:2]\n",
    "        nn_params = [nn_params[j] - (alpha * grads[j]) for j in range(len(nn_params))]\n",
    "        J_history.append(cost)\n",
    "    return nn_params , J_history"
   ]
  },
  {
   "cell_type": "code",
   "execution_count": 156,
   "metadata": {},
   "outputs": [],
   "source": [
    "def randInitializeWeights(L_in, L_out):\n",
    "    \"\"\"\n",
    "    randomly initializes the weights of a layer with L_in incoming connections and L_out outgoing connections.\n",
    "    \"\"\"\n",
    "    \n",
    "    epi = (6**1/2) / (L_in + L_out)**1/2\n",
    "    \n",
    "    W = np.random.rand(L_out,L_in +1) *(2*epi) -epi\n",
    "    \n",
    "    return W"
   ]
  },
  {
   "cell_type": "code",
   "execution_count": 157,
   "metadata": {},
   "outputs": [],
   "source": [
    "input_layer_size  = X.shape[1]\n",
    "hidden_layer1_size = 10\n",
    "hidden_layer2_size = 20\n",
    "hidden_layer3_size = 30\n",
    "num_labels = max(y)[0]+1"
   ]
  },
  {
   "cell_type": "code",
   "execution_count": 158,
   "metadata": {},
   "outputs": [],
   "source": [
    "# Define algorithm properties\n",
    "alpha=1 #learning rate\n",
    "num_iters=2\n",
    "Lambda=0.1"
   ]
  },
  {
   "cell_type": "code",
   "execution_count": 159,
   "metadata": {},
   "outputs": [],
   "source": [
    "# Initialize thetas\n",
    "initial_Theta1 = randInitializeWeights(input_layer_size, hidden_layer1_size)\n",
    "initial_Theta2 = randInitializeWeights(hidden_layer1_size, hidden_layer2_size)\n",
    "initial_Theta3 = randInitializeWeights(hidden_layer2_size, hidden_layer3_size)\n",
    "initial_Theta4 = randInitializeWeights(hidden_layer3_size, num_labels)\n",
    "\n",
    "initial_nn_params =[]\n",
    "initial_nn_params.append(initial_Theta1)\n",
    "initial_nn_params.append(initial_Theta2)\n",
    "initial_nn_params.append(initial_Theta3)\n",
    "initial_nn_params.append(initial_Theta4)\n",
    "\n",
    "# Gradient descent WITHOUT regularization\n",
    "nnTheta, nnJ_history = gradientDescentnn(X,y,initial_nn_params,alpha,num_iters,Lambda,input_layer_size, hidden_layer_size, num_labels)\n",
    "\n",
    "# Gradient descent WITH regularization\n",
    "nnTheta_reg, nnJ_history_reg = gradientDescentnn(X,y,initial_nn_params,alpha,num_iters,Lambda,input_layer_size, hidden_layer_size, num_labels, regularized=True)\n"
   ]
  },
  {
   "cell_type": "markdown",
   "metadata": {},
   "source": [
    "### Analysis (Cost function by iterations)"
   ]
  },
  {
   "cell_type": "code",
   "execution_count": 160,
   "metadata": {},
   "outputs": [
    {
     "data": {
      "image/png": "[encoded data removed]",
      "text/plain": [
       "<Figure size 1296x331.2 with 2 Axes>"
      ]
     },
     "metadata": {
      "needs_background": "light"
     },
     "output_type": "display_data"
    }
   ],
   "source": [
    "fig, axs = plt.subplots(1, 2)\n",
    "\n",
    "axs[0].plot(nnJ_history)\n",
    "axs[0].set_xlabel(\"Iteration\")\n",
    "axs[0].set_ylabel(\"$J(\\Theta)$\")\n",
    "axs[0].set_title(\"Cost function using Gradient Descent WITHOUT regularization\")\n",
    "\n",
    "axs[1].plot(nnJ_history_reg)\n",
    "axs[1].set_xlabel(\"Iteration\")\n",
    "axs[1].set_ylabel(\"$J(\\Theta)$\")\n",
    "axs[1].set_title(\"Cost function using Gradient Descent WITH regularization\")\n",
    "\n",
    "fig.set_size_inches(18, 4.6)"
   ]
  },
  {
   "cell_type": "markdown",
   "metadata": {},
   "source": [
    "### Compute accuracy"
   ]
  },
  {
   "cell_type": "code",
   "execution_count": 161,
   "metadata": {},
   "outputs": [],
   "source": [
    "def predict(Thetas, X):\n",
    "    \"\"\"\n",
    "    Predict the label of an input given a trained neural network\n",
    "    \"\"\"\n",
    "    \n",
    "    #number of training examples\n",
    "    m=X.shape[0]\n",
    "        \n",
    "    # add an extra column of 1´s corresponding to xo=1\n",
    "    X = np.append(np.ones((m,1)), X,axis=1)\n",
    "    \n",
    "    lt=X\n",
    "    for i in range(len(Thetas)-1):\n",
    "        z1= np.dot(lt,Thetas[i].T)\n",
    "        a1= sigmoid(z1)\n",
    "        a1 = np.append(np.ones((m,1)), a1,axis=1)\n",
    "        lt=a1\n",
    "    \n",
    "    \n",
    "    return np.argmax(lt,axis=1)+1"
   ]
  },
  {
   "cell_type": "code",
   "execution_count": 162,
   "metadata": {},
   "outputs": [
    {
     "name": "stdout",
     "output_type": "stream",
     "text": [
      "Training Set Accuracy: 33.33333333333333 %\n",
      "Training Set Accuracy (Regularized): 33.33333333333333 %\n"
     ]
    }
   ],
   "source": [
    "pred2 = predict(nnTheta, X)\n",
    "print(\"Training Set Accuracy:\",sum(pred2[:,np.newaxis]==y)[0]/m*100,\"%\")\n",
    "\n",
    "pred2_reg = predict(nnTheta_reg, X)\n",
    "print(\"Training Set Accuracy (Regularized):\",sum(pred2_reg[:,np.newaxis]==y)[0]/m*100,\"%\")"
   ]
  },
  {
   "cell_type": "code",
   "execution_count": null,
   "metadata": {},
   "outputs": [],
   "source": []
  }
 ],
 "metadata": {
  "kernelspec": {
   "display_name": "Python 3",
   "language": "python",
   "name": "python3"
  },
  "language_info": {
   "codemirror_mode": {
    "name": "ipython",
    "version": 3
   },
   "file_extension": ".py",
   "mimetype": "text/x-python",
   "name": "python",
   "nbconvert_exporter": "python",
   "pygments_lexer": "ipython3",
   "version": "3.8.5"
  }
 },
 "nbformat": 4,
 "nbformat_minor": 4
}
