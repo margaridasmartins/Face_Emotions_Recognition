{
 "cells": [
  {
   "cell_type": "markdown",
   "metadata": {},
   "source": [
    "# Project 1 TAA - 2 Layer model"
   ]
  },
  {
   "cell_type": "code",
   "execution_count": 1,
   "metadata": {},
   "outputs": [],
   "source": [
    "#Import relevant libraries\n",
    "import numpy as np\n",
    "import pandas as pd\n",
    "import matplotlib.pyplot as plt\n",
    "#to load matlab mat files\n",
    "from scipy.io import loadmat"
   ]
  },
  {
   "cell_type": "code",
   "execution_count": 2,
   "metadata": {},
   "outputs": [
    {
     "name": "stdout",
     "output_type": "stream",
     "text": [
      "Loaded 6000 traing examples, each with 2304 features (pixels).\n"
     ]
    }
   ],
   "source": [
    "filename = \"../datasets/train/angry_fear_happy_neutral_sad_surprise.mat\"\n",
    "mat=loadmat(filename)\n",
    "\n",
    "# mat is a dict with key \"X\" for x-values, and key \"y\" for y values\n",
    "X=mat[\"X\"]\n",
    "y=mat[\"y\"]\n",
    "\n",
    "#number of training examples\n",
    "m = len(X)\n",
    "print(f\"Loaded {X.shape[0]} traing examples, each with {X.shape[1]} features (pixels).\")"
   ]
  },
  {
   "cell_type": "markdown",
   "metadata": {},
   "source": [
    "### Sigmoid function and gradient"
   ]
  },
  {
   "cell_type": "code",
   "execution_count": 3,
   "metadata": {},
   "outputs": [],
   "source": [
    "# Add sigmoid FUNCTION from the previous lab\n",
    "def sigmoid(z):\n",
    "    \"\"\"\n",
    "    return the sigmoid of z\n",
    "    \"\"\"\n",
    "    gz=1/(1+np.exp(-z))\n",
    "    \n",
    "    return gz"
   ]
  },
  {
   "cell_type": "code",
   "execution_count": 4,
   "metadata": {},
   "outputs": [],
   "source": [
    "#Computes the gradient of sigmoid function\n",
    "def sigmoidGradient(z):\n",
    "    \"\"\"\n",
    "    computes the gradient of the sigmoid function\n",
    "    \"\"\"\n",
    "    sigmoid = 1/(1 + np.exp(-z))\n",
    "    \n",
    "    return sigmoid *(1-sigmoid) "
   ]
  },
  {
   "cell_type": "markdown",
   "metadata": {},
   "source": [
    "### Neural Network Cost Function"
   ]
  },
  {
   "cell_type": "code",
   "execution_count": 5,
   "metadata": {},
   "outputs": [],
   "source": [
    "def nnCostFunction(nn_params,input_layer_size, hidden_layer_size, num_labels,X, y,Lambda):\n",
    "    \"\"\"\n",
    "    nn_params contains the parameters unrolled into a vector\n",
    "    \n",
    "    compute the cost and gradient of the neural network (regularized and non regularized)\n",
    "    \"\"\"\n",
    "    # Reshape nn_params back into the parameters Theta1 and Theta2\n",
    "    Theta1 = nn_params[:((input_layer_size+1) * hidden_layer_size)].reshape(hidden_layer_size,input_layer_size+1)\n",
    "    Theta2 = nn_params[((input_layer_size +1)* hidden_layer_size ):].reshape(num_labels,hidden_layer_size+1)\n",
    "    \n",
    "    m = X.shape[0]\n",
    "    J=0\n",
    "    X = np.hstack((np.ones((m,1)),X))\n",
    "    y10 = np.zeros((m,num_labels))\n",
    "    \n",
    "    a1 = sigmoid(X @ Theta1.T)\n",
    "    a1 = np.hstack((np.ones((m,1)), a1)) # hidden layer\n",
    "    a2 = sigmoid(a1 @ Theta2.T) # output layer\n",
    "    \n",
    "    for i in range(1,num_labels+1):\n",
    "        y10[:,i-1][:,np.newaxis] = np.where(y==i,1,0)\n",
    "    for j in range(num_labels):\n",
    "        J = J + sum(-y10[:,j] * np.log(a2[:,j]) - (1-y10[:,j])*np.log(1-a2[:,j]))\n",
    "    \n",
    "    cost = 1/m* J\n",
    "    reg_cost = cost + Lambda/(2*m) * (np.sum(Theta1[:,1:]**2) + np.sum(Theta2[:,1:]**2))\n",
    "    \n",
    "    # Implement the backpropagation algorithm to compute the gradients\n",
    "    \n",
    "    grad1 = np.zeros((Theta1.shape))\n",
    "    grad2 = np.zeros((Theta2.shape))\n",
    "    \n",
    "    for i in range(m):\n",
    "        xi= X[i,:] # 1 X 401\n",
    "        a1i = a1[i,:] # 1 X 26\n",
    "        a2i =a2[i,:] # 1 X 10\n",
    "        d2 = a2i - y10[i,:]\n",
    "        d1 = Theta2.T @ d2.T * sigmoidGradient(np.hstack((1,xi @ Theta1.T)))\n",
    "        grad1= grad1 + d1[1:][:,np.newaxis] @ xi[:,np.newaxis].T\n",
    "        grad2 = grad2 + d2.T[:,np.newaxis] @ a1i[:,np.newaxis].T\n",
    "        \n",
    "    grad1 = 1/m * grad1\n",
    "    grad2 = 1/m*grad2\n",
    "    \n",
    "    grad1_reg = grad1 + (Lambda/m) * np.hstack((np.zeros((Theta1.shape[0],1)),Theta1[:,1:]))\n",
    "    grad2_reg = grad2 + (Lambda/m) * np.hstack((np.zeros((Theta2.shape[0],1)),Theta2[:,1:]))\n",
    "    \n",
    "    return cost, grad1, grad2, reg_cost, grad1_reg, grad2_reg"
   ]
  },
  {
   "cell_type": "markdown",
   "metadata": {},
   "source": [
    "### Neural Network Gradient Descent"
   ]
  },
  {
   "cell_type": "code",
   "execution_count": 6,
   "metadata": {},
   "outputs": [],
   "source": [
    "def gradientDescentnn(X,y,initial_nn_params,alpha,num_iters,Lambda,input_layer_size, hidden_layer_size, num_labels,regularized=False):\n",
    "    \"\"\"\n",
    "    Take in numpy array X, y and theta and update theta by taking num_iters gradient steps\n",
    "    with learning rate of alpha\n",
    "    \n",
    "    return theta and the list of the cost of theta during each iteration\n",
    "    \"\"\"\n",
    "    Theta1 = initial_nn_params[:((input_layer_size+1) * hidden_layer_size)].reshape(hidden_layer_size,input_layer_size+1)\n",
    "    Theta2 = initial_nn_params[((input_layer_size +1)* hidden_layer_size ):].reshape(num_labels,hidden_layer_size+1)\n",
    "    \n",
    "    m=len(y)\n",
    "    J_history =[]\n",
    "    \n",
    "    for i in range(num_iters):\n",
    "        nn_params = np.append(Theta1.flatten(),Theta2.flatten())\n",
    "        if regularized:\n",
    "            cost, grad1, grad2 = nnCostFunction(nn_params,input_layer_size, hidden_layer_size, num_labels,X, y,Lambda)[3:]\n",
    "        else:\n",
    "            cost, grad1, grad2 = nnCostFunction(nn_params,input_layer_size, hidden_layer_size, num_labels,X, y,Lambda)[:3]\n",
    "        Theta1 = Theta1 - (alpha * grad1)\n",
    "        Theta2 = Theta2 - (alpha * grad2)\n",
    "        J_history.append(cost)\n",
    "    \n",
    "    nn_paramsFinal = np.append(Theta1.flatten(),Theta2.flatten())\n",
    "    return nn_paramsFinal , J_history"
   ]
  },
  {
   "cell_type": "code",
   "execution_count": 7,
   "metadata": {},
   "outputs": [],
   "source": [
    "def randInitializeWeights(L_in, L_out):\n",
    "    \"\"\"\n",
    "    randomly initializes the weights of a layer with L_in incoming connections and L_out outgoing connections.\n",
    "    \"\"\"\n",
    "    \n",
    "    epi = (6**1/2) / (L_in + L_out)**1/2\n",
    "    \n",
    "    W = np.random.rand(L_out,L_in +1) *(2*epi) -epi\n",
    "    \n",
    "    return W"
   ]
  },
  {
   "cell_type": "code",
   "execution_count": 22,
   "metadata": {},
   "outputs": [],
   "source": [
    "input_layer_size  = X.shape[1]\n",
    "hidden_layer_size = 144\n",
    "num_labels = max(y)[0]+1"
   ]
  },
  {
   "cell_type": "code",
   "execution_count": 24,
   "metadata": {},
   "outputs": [],
   "source": [
    "# Define algorithm properties\n",
    "alpha=1 #learning rate\n",
    "num_iters=500\n",
    "Lambda=0.1"
   ]
  },
  {
   "cell_type": "code",
   "execution_count": 13,
   "metadata": {},
   "outputs": [],
   "source": [
    "# Initialize thetas\n",
    "initial_Theta1 = randInitializeWeights(input_layer_size, hidden_layer_size)\n",
    "initial_Theta2 = randInitializeWeights(hidden_layer_size, num_labels)\n",
    "initial_nn_params = np.append(initial_Theta1.flatten(),initial_Theta2.flatten())\n",
    "\n",
    "# Gradient descent WITHOUT regularization\n",
    "nnTheta, nnJ_history = gradientDescentnn(X,y,initial_nn_params,alpha,num_iters,Lambda,input_layer_size, hidden_layer_size, num_labels)\n",
    "Theta1 = nnTheta[:((input_layer_size+1) * hidden_layer_size)].reshape(hidden_layer_size,input_layer_size+1)\n",
    "Theta2 = nnTheta[((input_layer_size +1)* hidden_layer_size ):].reshape(num_labels,hidden_layer_size+1)\n",
    "\n",
    "# Gradient descent WITH regularization\n",
    "nnTheta_reg, nnJ_history_reg = gradientDescentnn(X,y,initial_nn_params,alpha,num_iters,Lambda,input_layer_size, hidden_layer_size, num_labels, regularized=True)\n",
    "Theta1_reg = nnTheta[:((input_layer_size+1) * hidden_layer_size)].reshape(hidden_layer_size,input_layer_size+1)\n",
    "Theta2_reg = nnTheta[((input_layer_size +1)* hidden_layer_size ):].reshape(num_labels,hidden_layer_size+1)"
   ]
  },
  {
   "cell_type": "markdown",
   "metadata": {},
   "source": [
    "### Analysis (Cost function by iterations)"
   ]
  },
  {
   "cell_type": "code",
   "execution_count": 14,
   "metadata": {},
   "outputs": [
    {
     "data": {
      "image/png": "[encoded data removed]",
      "text/plain": [
       "<Figure size 1296x331.2 with 2 Axes>"
      ]
     },
     "metadata": {
      "needs_background": "light"
     },
     "output_type": "display_data"
    }
   ],
   "source": [
    "fig, axs = plt.subplots(1, 2)\n",
    "\n",
    "axs[0].plot(nnJ_history)\n",
    "axs[0].set_xlabel(\"Iteration\")\n",
    "axs[0].set_ylabel(\"$J(\\Theta)$\")\n",
    "axs[0].set_title(\"Cost function using Gradient Descent WITHOUT regularization\")\n",
    "\n",
    "axs[1].plot(nnJ_history_reg)\n",
    "axs[1].set_xlabel(\"Iteration\")\n",
    "axs[1].set_ylabel(\"$J(\\Theta)$\")\n",
    "axs[1].set_title(\"Cost function using Gradient Descent WITH regularization\")\n",
    "\n",
    "fig.set_size_inches(18, 4.6)"
   ]
  },
  {
   "cell_type": "markdown",
   "metadata": {},
   "source": [
    "### Validation Curve (different lambda and alpha)"
   ]
  },
  {
   "cell_type": "code",
   "execution_count": 15,
   "metadata": {},
   "outputs": [],
   "source": [
    "def validationCurve (X, y, Xval, yval, initial_nn_params,alpha_array, num_iter, Lambda_array,input_layer_size, hidden_layer_size, num_labels):\n",
    "    \"\"\"    \n",
    "    Returns the best lambda and the respective train and cross validation set errors\n",
    "    \"\"\"\n",
    "    m = len(y)\n",
    "    n= X.shape[1] \n",
    "    mval = len(yval)\n",
    "        \n",
    "    error_train, error_val, plt_lambda, plt_alpha = [],[],[],[]\n",
    "    \n",
    "    for lam in Lambda_array:\n",
    "        for a in alpha_array:\n",
    "            nnTheta = gradientDescentnn( X, y,initial_nn_params,a,num_iter,lam,input_layer_size, hidden_layer_size, num_labels,regularized=True)[0]\n",
    "            Theta1 = nnTheta[:((input_layer_size+1) * hidden_layer_size)].reshape(hidden_layer_size,input_layer_size+1)\n",
    "            Theta2 = nnTheta[((input_layer_size +1)* hidden_layer_size ):].reshape(num_labels,hidden_layer_size+1)\n",
    "            pred_train = predict(Theta1, Theta2, X)\n",
    "            pred_val = predict(Theta1, Theta2, Xval)\n",
    "            error_train_i = 1/(2*m) * np.sum((pred_train - y)**2)\n",
    "            error_val_i = 1/(2*mval) * np.sum((pred_val - yval)**2)\n",
    "            error_train.append(error_train_i)\n",
    "            error_val.append(error_val_i)\n",
    "            plt_lambda.append(lam)\n",
    "            plt_alpha.append(a)\n",
    "            \n",
    "    \n",
    "    ind = np.argmin(error_val)\n",
    "    best_lambda=plt_lambda[ind]\n",
    "    best_alpha =plt_alpha[ind]\n",
    "    \n",
    "    return best_lambda, best_alpha, error_train, error_val, plt_lambda, plt_alpha"
   ]
  },
  {
   "cell_type": "code",
   "execution_count": null,
   "metadata": {},
   "outputs": [],
   "source": [
    "\n",
    "Lambda_array = [0.001, 0.01, 0.03, 0.1, 0.3, 1, 3, 10]\n",
    "alpha_array = [0.001, 0.01, 0.03, 0.1, 0.3, 0.5, 0.8, 1]\n",
    "\n",
    "\n",
    "# load dev set\n",
    "mat=loadmat(\"../datasets/dev/angry_fear_happy_neutral_sad_surprise.mat\")\n",
    "\n",
    "X_dev=mat[\"X\"]\n",
    "y_dev=mat[\"y\"]\n",
    "\n",
    "initial_Theta1 = randInitializeWeights(input_layer_size, hidden_layer_size)\n",
    "initial_Theta2 = randInitializeWeights(hidden_layer_size, num_labels)\n",
    "initial_nn_params = np.append(initial_Theta1.flatten(),initial_Theta2.flatten())\n",
    "\n",
    "best_lambda, best_alpha, error_train, error_val, plt_lambda, plt_alpha = validationCurve(X, y, X_dev, y_dev, initial_nn_params,alpha_array, num_iters, Lambda_array,input_layer_size, hidden_layer_size, num_labels)\n",
    "\n",
    "print(\"Best alpha:\" + str(best_alpha) )\n",
    "print(\"Best lambda:\" + str(best_lambda) )\n",
    "\n",
    "n= len(Lambda_array)\n",
    "m=len(alpha_array)\n",
    "\n",
    "\n",
    "data = np.array([f'TE:{error_train[i]:.2f}\\n VE: {error_val[i]:.2f}' for i in range(len(error_train))]).reshape((n,m))\n",
    "\n",
    "plt.figure(figsize=(15,15))\n",
    "\n",
    "colors = plt.cm.BuPu(np.linspace(0, 0.5, len(Lambda_array)))\n",
    "colorsCols = plt.cm.BuPu(np.linspace(0, 0.5, len(alpha_array)))\n",
    "the_table = plt.table(cellText=data,rowLabels=Lambda_array,rowColours=colors,colLabels=alpha_array, colColours=colorsCols, loc='center',bbox=[0.0,0,1,1])\n",
    "plt.title(\"Validation Curve multiple Alpha/ Lambda \")\n",
    "plt.axis('off')\n",
    "plt.axis('tight')\n"
   ]
  },
  {
   "cell_type": "markdown",
   "metadata": {},
   "source": [
    "### Compute accuracy"
   ]
  },
  {
   "cell_type": "code",
   "execution_count": 18,
   "metadata": {},
   "outputs": [],
   "source": [
    "def predict(Theta1, Theta2, X):\n",
    "    \"\"\"\n",
    "    Predict the label of an input given a trained neural network\n",
    "    \"\"\"\n",
    "    \n",
    "    #number of training examples\n",
    "    m=X.shape[0]\n",
    "        \n",
    "    # add an extra column of 1´s corresponding to xo=1\n",
    "    X = np.append(np.ones((m,1)), X,axis=1)\n",
    "    \n",
    "    #Compute the output of the hidden layer (with sigmoid activation functions)\n",
    "    z1= np.dot(X,Theta1.T)\n",
    "    a1= sigmoid(z1)\n",
    "    \n",
    "    #Add a column of ones\n",
    "    a1 = np.append(np.ones((m,1)), a1,axis=1)\n",
    "    \n",
    "    #Compute the output of the output layer (with sigmoid activation functions)\n",
    "    z2= np.dot(a1,Theta2.T)\n",
    "    a2= sigmoid(z2)\n",
    "    \n",
    "    return np.argmax(a2,axis=1)+1"
   ]
  },
  {
   "cell_type": "code",
   "execution_count": 20,
   "metadata": {},
   "outputs": [
    {
     "name": "stdout",
     "output_type": "stream",
     "text": [
      "Training Set Accuracy: 17.0 %\n",
      "Training Set Accuracy (Regularized): 17.0 %\n"
     ]
    }
   ],
   "source": [
    "m=len(X)\n",
    "pred2 = predict(Theta1, Theta2, X)\n",
    "print(\"Training Set Accuracy:\",sum(pred2[:,np.newaxis]==y)[0]/m*100,\"%\")\n",
    "\n",
    "pred2_reg = predict(Theta1_reg, Theta2_reg, X)\n",
    "print(\"Training Set Accuracy (Regularized):\",sum(pred2_reg[:,np.newaxis]==y)[0]/m*100,\"%\")"
   ]
  },
  {
   "cell_type": "markdown",
   "metadata": {},
   "source": [
    "### Analysis (Confusion matrix)"
   ]
  },
  {
   "cell_type": "code",
   "execution_count": null,
   "metadata": {},
   "outputs": [],
   "source": [
    "def confusionMatrix(emotions, pred, y):\n",
    "    \n",
    "    confusionTFPN = {}\n",
    "    confusionWithOtherEmotions = {}\n",
    "    \n",
    "    # Foreach emotion\n",
    "    for ie in range(len(emotions)):\n",
    "        # TRUE AND FALSE POSITIVES AND NEGATIVES (TFPN)\n",
    "        \n",
    "        # Get indexes where emotion was predicted\n",
    "        ieIndexesPred = [i for i in range(pred.size) if pred[i]==ie]\n",
    "        ieIndexesNotPred = [i for i in range(pred.size) if pred[i]!=ie]\n",
    "\n",
    "        # Predicted, and Actual\n",
    "        TP = sum(pred[:,np.newaxis][ieIndexesPred]==y[ieIndexesPred])\n",
    "        # Predicted, but not actual\n",
    "        FP = sum(pred[:,np.newaxis][ieIndexesPred]!=y[ieIndexesPred])\n",
    "        # Not predicted, but actual\n",
    "        FN = sum(y[ieIndexesNotPred]==ie)\n",
    "        # Not predicted and not actual\n",
    "        TN = sum(y[ieIndexesNotPred]!=ie)\n",
    "\n",
    "        TP = TP[0] if TP else 0\n",
    "        FP = FP[0] if FP else 0\n",
    "        FN = FN[0] if FN else 0\n",
    "        TN = TN[0] if TN else 0\n",
    "        \n",
    "        confusionTFPN[emotions[ie]] = {\n",
    "            'TP': TP,\n",
    "            'FP': FP,\n",
    "            'FN': FN,\n",
    "            'TN': TN\n",
    "        }\n",
    "        \n",
    "        # CONFUSION WITH OTHER EMOTIONS (Confusion)\n",
    "        # For emotion e\n",
    "        # Count the number of predictions made for all classes\n",
    "        # Foreach emotion, check how many times it has been predicted \n",
    "        \n",
    "        # Get indexes where emotion is real\n",
    "        ieIndexesY = [i for i in range(y.size) if y[i]==ie]\n",
    "        \n",
    "        # Foreach matching prediction, check what emotion was predicted\n",
    "        confusionWithOtherEmotions[emotions[ie]] = {\n",
    "            e: sum(pred[:,np.newaxis][ieIndexesY]==emotions.index(e))[0] for e in emotions\n",
    "        }\n",
    "        \n",
    "    return confusionTFPN, confusionWithOtherEmotions        "
   ]
  },
  {
   "cell_type": "code",
   "execution_count": 16,
   "metadata": {},
   "outputs": [],
   "source": [
    "emotions = filename.split(\"training_data_\")[1].split(\".mat\")[0].split(\"_\")\n",
    "\n",
    "# print(\"----------------------------\\nWITHOUT regularization\")\n",
    "confusionTFPN, confusionWithOtherEmotions = confusionMatrix(emotions, pred2, y)\n",
    "\n",
    "# print(\"\\n----------------------------\\nWITH regularization\")\n",
    "confusionTFPN_reg, confusionWithOtherEmotions_reg = confusionMatrix(emotions, pred2_reg, y)    "
   ]
  },
  {
   "cell_type": "markdown",
   "metadata": {},
   "source": [
    "#### Text output"
   ]
  },
  {
   "cell_type": "code",
   "execution_count": 17,
   "metadata": {},
   "outputs": [],
   "source": [
    "def outputConfusionText(emotions, y, confusionTFPN, confusionWithOtherEmotions):\n",
    "    \n",
    "    # OUTPUT FEEDBACK TO USER\n",
    "    \n",
    "    # TFPN\n",
    "    print(f\"\\n{'Emotion':15} {'TP':8} {'%':8} {'TN':8} {'%':8} {'FP':8} {'%':8} {'FN':8} {'%':8} Total ({np.size(y)} Expected)\")\n",
    "    for e in emotions:\n",
    "        TP = confusionTFPN[e]['TP']\n",
    "        FP = confusionTFPN[e]['FP']\n",
    "        FN = confusionTFPN[e]['FN']\n",
    "        TN = confusionTFPN[e]['TN']\n",
    "        print(f\"{e:15} {TP:<8} {TP/y.size*100:<8.2f} {TN:<8} {TN/y.size*100:<8.2f} {FP:<8} {FP/y.size*100:<8.2f} {FN:<8} {FN/y.size*100:<8.2f} {FP+TP+FN+TN}\")\n",
    "    \n",
    "    # Confusion\n",
    "    print(f\"\\n{'True / Predicted':20}\", end=\" \")\n",
    "    for e in emotions:\n",
    "        print(f\"{e:10}\", end=\" \")\n",
    "    print()\n",
    "    \n",
    "    for e, others in confusionWithOtherEmotions.items():\n",
    "        print(f\"{e:20}\", end=\" \")\n",
    "        for _, o in others.items():\n",
    "            print(f\"{o:<10}\", end=\" \")\n",
    "        print()"
   ]
  },
  {
   "cell_type": "code",
   "execution_count": 18,
   "metadata": {},
   "outputs": [
    {
     "name": "stdout",
     "output_type": "stream",
     "text": [
      "WITHOUT Regularization\n",
      "\n",
      "Emotion         TP       %        TN       %        FP       %        FN       %        Total (3000 Expected)\n",
      "fear            0        0.00     2000     66.67    0        0.00     1000     33.33    3000\n",
      "neutral         994      33.13    14       0.47     1986     66.20    6        0.20     3000\n",
      "happy           8        0.27     1988     66.27    12       0.40     992      33.07    3000\n",
      "\n",
      "True / Predicted     fear       neutral    happy      \n",
      "fear                 0          994        6          \n",
      "neutral              0          994        6          \n",
      "happy                0          992        8          \n",
      "\n",
      "WITH Regularization\n",
      "\n",
      "Emotion         TP       %        TN       %        FP       %        FN       %        Total (3000 Expected)\n",
      "fear            0        0.00     2000     66.67    0        0.00     1000     33.33    3000\n",
      "neutral         994      33.13    14       0.47     1986     66.20    6        0.20     3000\n",
      "happy           8        0.27     1988     66.27    12       0.40     992      33.07    3000\n",
      "\n",
      "True / Predicted     fear       neutral    happy      \n",
      "fear                 0          994        6          \n",
      "neutral              0          994        6          \n",
      "happy                0          992        8          \n"
     ]
    }
   ],
   "source": [
    "print(\"WITHOUT Regularization\")\n",
    "outputConfusionText(emotions, y, confusionTFPN, confusionWithOtherEmotions)\n",
    "\n",
    "print(\"\\nWITH Regularization\")\n",
    "outputConfusionText(emotions, y, confusionTFPN_reg, confusionWithOtherEmotions_reg)"
   ]
  },
  {
   "cell_type": "markdown",
   "metadata": {},
   "source": [
    "### Table output"
   ]
  },
  {
   "cell_type": "code",
   "execution_count": 19,
   "metadata": {},
   "outputs": [],
   "source": [
    "def outputConfusionTables(emotions, y, confusionTFPN, confusionWithOtherEmotions, axs, axsLine, axsTitle):\n",
    "      # TABLES\n",
    "    rows = tuple(emotions)\n",
    "    colors = plt.cm.BuPu(np.linspace(0, 0.5, len(rows)))\n",
    "    \n",
    "    # TABLES / TFPN\n",
    "    # Output confusion matrix as plot table\n",
    "    data = [\n",
    "        [\n",
    "            vals['TP'],\n",
    "            f\"{vals['TP']/y.size*100:.2f}\",\n",
    "            vals['TN'],\n",
    "            f\"{vals['TN']/y.size*100:.2f}\",\n",
    "            vals['FP'],\n",
    "            f\"{vals['FP']/y.size*100:.2f}\",\n",
    "            vals['FN'],\n",
    "            f\"{vals['FN']/y.size*100:.2f}\",\n",
    "            200\n",
    "        ]\n",
    "        for _, vals in confusionTFPN.items()\n",
    "    ]\n",
    "    columns = ['TP', '%', 'TN', '%', 'FP', '%', 'FN', '%', f\"Total\"]\n",
    "    \n",
    "    colorsCols = plt.cm.Greys(np.linspace(0.15, 0.15, len(columns)))\n",
    "        \n",
    "    the_table = axs[axsLine].table(\n",
    "      cellText=data,\n",
    "      rowLabels=rows,\n",
    "      rowColours=colors,\n",
    "      colLabels=columns,\n",
    "      colColours=colorsCols,\n",
    "      loc='center'\n",
    "    )\n",
    "    # the_table.scale(1.2, 1)\n",
    "    the_table.auto_set_font_size(False)\n",
    "    the_table.set_fontsize(20)\n",
    "    axs[axsLine].axis('off')\n",
    "    axs[axsLine].axis('tight')\n",
    "    axs[axsLine].set_title(f\"Confusion matrix {axsTitle}\")    \n",
    "    \n",
    "    # TABLES / Confusion    \n",
    "    # Output confusion matrix as plot table\n",
    "    data = [[o for _,o in others.items()] for _,others in confusionWithOtherEmotions.items()]\n",
    "    columns = rows\n",
    "    \n",
    "    colorsCols = plt.cm.BuPu(np.linspace(0, 0.5, len(columns)))\n",
    "        \n",
    "    the_table = axs[axsLine+1].table(\n",
    "      cellText=data,\n",
    "      rowLabels=rows,\n",
    "      rowColours=colors,\n",
    "      colLabels=columns,\n",
    "      colColours=colorsCols,\n",
    "      loc='center'\n",
    "    )\n",
    "    the_table.set_fontsize(20)\n",
    "    the_table.scale(1, 4)\n",
    "    axs[axsLine+1].axis('off')\n",
    "    axs[axsLine+1].axis('tight')\n",
    "    axs[axsLine+1].set_title(f\"True/Predicted {axsTitle}\")\n",
    "    "
   ]
  },
  {
   "cell_type": "code",
   "execution_count": 20,
   "metadata": {
    "scrolled": true
   },
   "outputs": [
    {
     "data": {
      "image/png": "[encoded data removed]",
      "text/plain": [
       "<Figure size 1296x1324.8 with 4 Axes>"
      ]
     },
     "metadata": {
      "needs_background": "light"
     },
     "output_type": "display_data"
    }
   ],
   "source": [
    "fig, axs = plt.subplots(4,1)\n",
    "outputConfusionTables(emotions, y, confusionTFPN, confusionWithOtherEmotions, axs, 0, \"WITHOUT regularization\")\n",
    "outputConfusionTables(emotions, y, confusionTFPN, confusionWithOtherEmotions, axs, 2, \"WITH regularization\")\n",
    "\n",
    "fig.set_size_inches(18,18.4/3*len(emotions))\n",
    "fig.subplots_adjust(left=0.2, top=20)\n",
    "fig.tight_layout()"
   ]
  },
  {
   "cell_type": "code",
   "execution_count": null,
   "metadata": {},
   "outputs": [],
   "source": []
  }
 ],
 "metadata": {
  "kernelspec": {
   "display_name": "Python 3",
   "language": "python",
   "name": "python3"
  },
  "language_info": {
   "codemirror_mode": {
    "name": "ipython",
    "version": 3
   },
   "file_extension": ".py",
   "mimetype": "text/x-python",
   "name": "python",
   "nbconvert_exporter": "python",
   "pygments_lexer": "ipython3",
   "version": "3.8.5"
  }
 },
 "nbformat": 4,
 "nbformat_minor": 4
}
